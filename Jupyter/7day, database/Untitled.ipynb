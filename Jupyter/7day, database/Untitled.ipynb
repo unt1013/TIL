{
 "cells": [
  {
   "cell_type": "code",
   "execution_count": 13,
   "metadata": {},
   "outputs": [
    {
     "name": "stdout",
     "output_type": "stream",
     "text": [
      "강원 2016 206\n",
      "경기 2016 749\n",
      "경남 2016 359\n",
      "경북 2016 477\n",
      "광주 2016 85\n",
      "대구 2016 150\n",
      "대전 2016 94\n",
      "부산 2016 153\n",
      "서울 2016 342\n",
      "세종 2016 25\n",
      "울산 2016 70\n",
      "인천 2016 137\n",
      "전남 2016 327\n",
      "전북 2016 275\n",
      "제주 2016 77\n",
      "충남 2016 372\n",
      "충북 2016 221\n"
     ]
    }
   ],
   "source": [
    "import pymysql\n",
    "\n",
    "conn = pymysql.connect(\n",
    "    host = 'localhost', user = 'root', password = '1234',\n",
    "    db = 'mydb', charset = 'utf8')\n",
    "\n",
    "cursor = conn.cursor(pymysql.cursors.DictCursor)\n",
    "sql = '''SELECT year, area1, count(*) \n",
    "        FROM accident \n",
    "        GROUP BY AREA1, YEAR'''\n",
    "\n",
    "cursor.execute(sql)\n",
    "result = cursor.fetchall()\n",
    "for row in result :\n",
    "    print(row['area1'], row['year'], row['count(*)'])\n",
    "    \n",
    "conn.commit()\n",
    "cursor.close()\n",
    "conn.close()"
   ]
  },
  {
   "cell_type": "code",
   "execution_count": 25,
   "metadata": {},
   "outputs": [],
   "source": [
    "import pymysql\n",
    "conn = pymysql.connect(\n",
    " host='localhost', user='root', password='1234',\n",
    " db='mydb', charset='utf8')\n",
    "\n",
    "cursor = conn.cursor(pymysql.cursors.DictCursor)\n",
    "sql = '''INSERT INTO MEMBER(NUM, NAME, EMAIL, C_DATE)\n",
    "        VALUES ('1', '아무개')'''\n",
    "\n",
    "conn.close()\n",
    "cursor.close()"
   ]
  },
  {
   "cell_type": "code",
   "execution_count": 35,
   "metadata": {},
   "outputs": [],
   "source": [
    "import pymysql\n",
    "conn = pymysql.connect(\n",
    " host='localhost', user='root', password='1234',\n",
    " db='mydb', charset='utf8')\n",
    "\n",
    "cursor = conn.cursor(pymysql.cursors.DictCursor)\n",
    "sql = '''CREATE TABLE MEMBER(\n",
    "        NUM INT,\n",
    "        NAME VARCHAR(30),\n",
    "        EMAIL VARCHAR(30),\n",
    "        C_DATE DATETIME,\n",
    "        PRIMARY KEY(NUM))'''\n",
    "\n",
    "cursor.execute(sql)\n",
    "\n",
    "conn.close()\n",
    "cursor.close()"
   ]
  },
  {
   "cell_type": "code",
   "execution_count": 36,
   "metadata": {},
   "outputs": [],
   "source": [
    "import pymysql\n",
    "conn = pymysql.connect(\n",
    " host='localhost', user='root', password='1234',\n",
    " db='mydb', charset='utf8')\n",
    "\n",
    "cursor = conn.cursor(pymysql.cursors.DictCursor)\n",
    "sql = '''CREATE TABLE ARTICLE(\n",
    "        ID INT,\n",
    "        TITLE VARCHAR(30),\n",
    "        CONTENT VARCHAR(30),\n",
    "        WRITER VARCHAR(30),\n",
    "        HIT INT,\n",
    "        C_DATE DATETIME,\n",
    "        PRIMARY KEY(ID))'''\n",
    "\n",
    "cursor.execute(sql)\n",
    "\n",
    "conn.close()\n",
    "cursor.close()"
   ]
  },
  {
   "cell_type": "code",
   "execution_count": 46,
   "metadata": {},
   "outputs": [],
   "source": [
    "import pymysql\n",
    "conn = pymysql.connect(\n",
    " host='localhost', user='root', password='1234',\n",
    " db='mydb', charset='utf8')\n",
    "\n",
    "cursor = conn.cursor(pymysql.cursors.DictCursor)\n",
    "sql = '''INSERT INTO MEMBER(NUM, NAME, EMAIL, C_DATE)\n",
    "        VALUES(1, 'a', 'a@a.com', now())'''\n",
    "\n",
    "cursor.execute(sql)\n",
    "\n",
    "conn.commit()\n",
    "\n",
    "conn.close()\n",
    "cursor.close()"
   ]
  },
  {
   "cell_type": "code",
   "execution_count": 48,
   "metadata": {},
   "outputs": [],
   "source": [
    "import pymysql\n",
    "conn = pymysql.connect(\n",
    " host='localhost', user='root', password='1234',\n",
    " db='mydb', charset='utf8')\n",
    "\n",
    "cursor = conn.cursor(pymysql.cursors.DictCursor)\n",
    "sql = '''INSERT INTO article(ID, TITLE, CONTENT, WRITER, HIT, C_DATE)\n",
    "        VALUES(1, '제목', '내용', '파이썬', 0, now())'''\n",
    "\n",
    "cursor.execute(sql)\n",
    "\n",
    "conn.commit()\n",
    "\n",
    "conn.close()\n",
    "cursor.close()"
   ]
  },
  {
   "cell_type": "code",
   "execution_count": 49,
   "metadata": {},
   "outputs": [],
   "source": [
    "import pymysql\n",
    "conn = pymysql.connect(\n",
    " host='localhost', user='root', password='1234',\n",
    " db='mydb', charset='utf8')\n",
    "\n",
    "cursor = conn.cursor(pymysql.cursors.DictCursor)\n",
    "sql = '''UPDATE MEMBER\n",
    "        SET NAME = 'AA', EMAIL = 'AA@AA.COM' '''\n",
    "\n",
    "cursor.execute(sql)\n",
    "\n",
    "conn.commit()\n",
    "\n",
    "conn.close()\n",
    "cursor.close()"
   ]
  },
  {
   "cell_type": "code",
   "execution_count": 59,
   "metadata": {},
   "outputs": [
    {
     "name": "stdout",
     "output_type": "stream",
     "text": [
      "page number?2\n",
      "4\n",
      "7876 ADAMS\n",
      "7900 JAMES\n",
      "7902 FORD\n",
      "7934 MILLER\n"
     ]
    }
   ],
   "source": [
    "import pymysql\n",
    "\n",
    "page_num = input('page number?')\n",
    "page_num = int(page_num)\n",
    "\n",
    "end_num = page_num*10\n",
    "start_num = end_num-9\n",
    "\n",
    "conn = pymysql.connect(\n",
    " host='localhost', user='root', password='1234',\n",
    " db='mydb', charset='utf8')\n",
    "\n",
    "cursor = conn.cursor(pymysql.cursors.DictCursor)\n",
    "sql = '''SELECT *\n",
    "        FROM EMP \n",
    "        LIMIT %s, 10'''\n",
    "\n",
    "cursor.execute(sql, start_num-1)\n",
    "\n",
    "result = cursor.fetchall()\n",
    "print(len(result))\n",
    "for row in result :\n",
    "    print(row['EMPNO'], row['ENAME'])\n",
    "\n",
    "conn.commit()\n",
    "\n",
    "conn.close()\n",
    "cursor.close()"
   ]
  },
  {
   "cell_type": "code",
   "execution_count": 4,
   "metadata": {},
   "outputs": [],
   "source": [
    "import pymysql\n",
    "def insert(sql, data):\n",
    "    cursor.execute(sql, data)\n",
    "conn = pymysql.connect(\n",
    "    host='localhost', user='root', password='1234',\n",
    "    db='mydb', charset='utf8')\n",
    "cursor = conn.cursor()\n",
    "\n",
    "# 데이터 100개 입력\n",
    "sql = '''INSERT INTO MEMBER\n",
    "    (NUM, NAME, EMAIL, C_DATE)\n",
    "    VALUES (NULL, %s, %s, NOW())'''\n",
    "for i in range(1, 101):\n",
    "    insert(sql, ('제목' + str(i), 'a@a.com'))\n",
    "\n",
    "conn.commit()\n",
    "conn.close()\n",
    "cursor.close()"
   ]
  },
  {
   "cell_type": "code",
   "execution_count": 41,
   "metadata": {},
   "outputs": [
    {
     "name": "stdout",
     "output_type": "stream",
     "text": [
      "101제목100a@a.com2020-01-28 11:26:07 \n",
      "100제목99a@a.com2020-01-28 11:26:07 \n",
      "99제목98a@a.com2020-01-28 11:26:07 \n",
      "98제목97a@a.com2020-01-28 11:26:07 \n",
      "97제목96a@a.com2020-01-28 11:26:07 \n"
     ]
    }
   ],
   "source": [
    "import pymysql\n",
    "\n",
    "def insert(sql, data):\n",
    "    cursor.execute(sql, data)\n",
    "conn = pymysql.connect(\n",
    "    host='localhost', user='root', password='1234',\n",
    "    db='mydb', charset='utf8')\n",
    "cursor = conn.cursor()\n",
    "\n",
    "sql = '''SELECT *\n",
    "        FROM MEMBER \n",
    "        order by num desc\n",
    "        LIMIT 0, 5'''\n",
    "\n",
    "cursor.execute(sql)\n",
    "result = cursor.fetchall()\n",
    "\n",
    "for row in result :\n",
    "    for col in row:\n",
    "        print(col, end = '')\n",
    "    print(' ')\n",
    "    \n",
    "conn.commit()\n",
    "conn.close()\n",
    "cursor.close()"
   ]
  },
  {
   "cell_type": "code",
   "execution_count": 71,
   "metadata": {},
   "outputs": [
    {
     "name": "stdout",
     "output_type": "stream",
     "text": [
      "808 신기산업 영도 앞바다가 한 눈에 들어오는 카페 연중무휴 주차가능\n",
      "800 속씨원한대구탕 24시간 속을 시원하게 풀어주는 대구탕 전문점 연중무휴 주차가능\n"
     ]
    }
   ],
   "source": [
    "import pymysql\n",
    "\n",
    "def insert(sql, data):\n",
    "    cursor.execute(sql, data)\n",
    "conn = pymysql.connect(\n",
    "    host='localhost', user='root', password='1234',\n",
    "    db='mydb', charset='utf8')\n",
    "cursor = conn.cursor()\n",
    "\n",
    "sql = '''SELECT *\n",
    "        FROM shop\n",
    "        WHERE rest_date = %s AND parking_info = %s\n",
    "        ORDER BY shop_id DESC\n",
    "        '''\n",
    "\n",
    "cursor.execute(sql, ('연중무휴', '주차가능'))\n",
    "result = cursor.fetchall()\n",
    "\n",
    "for i in result :\n",
    "    print(i[0], i[1],i[2],i[3],i[4])\n",
    "    \n",
    "conn.commit()\n",
    "conn.close()\n",
    "cursor.close()"
   ]
  },
  {
   "cell_type": "code",
   "execution_count": 96,
   "metadata": {},
   "outputs": [
    {
     "name": "stdout",
     "output_type": "stream",
     "text": [
      "a 일길동 751111-*******\n",
      "b 이길동 761111-*******\n",
      "c 삼길동 771111-*******\n",
      "d 사길동 781111-*******\n",
      "e 오길동 791111-*******\n",
      "f 육길동 801111-*******\n",
      "g 칠길동 811111-*******\n"
     ]
    }
   ],
   "source": [
    "import pymysql\n",
    "import re\n",
    "\n",
    "conn = pymysql.connect(\n",
    "    host='localhost', user='root', password='1234',\n",
    "    db='mydb', charset='utf8')\n",
    "cursor = conn.cursor()\n",
    "\n",
    "sql = '''SELECT *\n",
    "        FROM info\n",
    "        '''\n",
    "\n",
    "cursor.execute(sql)\n",
    "result = cursor.fetchall()\n",
    "\n",
    "pattern = re.compile('(\\d{6}-)\\d{7}')\n",
    "\n",
    "for i in result :\n",
    "    print(i[0],i[1], pattern.sub('\\g<1>*******', i[2]))\n",
    "\n",
    "conn.commit()\n",
    "\n",
    "cursor.close()\n",
    "conn.close()"
   ]
  }
 ],
 "metadata": {
  "kernelspec": {
   "display_name": "Python 3",
   "language": "python",
   "name": "python3"
  },
  "language_info": {
   "codemirror_mode": {
    "name": "ipython",
    "version": 3
   },
   "file_extension": ".py",
   "mimetype": "text/x-python",
   "name": "python",
   "nbconvert_exporter": "python",
   "pygments_lexer": "ipython3",
   "version": "3.7.4"
  }
 },
 "nbformat": 4,
 "nbformat_minor": 2
}
