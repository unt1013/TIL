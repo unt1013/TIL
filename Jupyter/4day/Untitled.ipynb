{
 "cells": [
  {
   "cell_type": "code",
   "execution_count": 4,
   "metadata": {},
   "outputs": [
    {
     "data": {
      "text/plain": [
       "[3, 6, 9, 12]"
      ]
     },
     "execution_count": 4,
     "metadata": {},
     "output_type": "execute_result"
    }
   ],
   "source": [
    "num_list=[1,2,3,4]\n",
    "\n",
    "list(map(lambda x : x * 3, [1,2,3,4]))\n",
    "\n",
    "def two_times(x) : return x * 3\n",
    "\n",
    "list(map(two_times, [1,2,3,4]))"
   ]
  },
  {
   "cell_type": "code",
   "execution_count": 8,
   "metadata": {},
   "outputs": [
    {
     "name": "stdout",
     "output_type": "stream",
     "text": [
      "0x41 0x53 0x43 0x49 0x49 0x20 0x54 0x41 0x42 0x4c 0x45 \n",
      "0x50 0x59 0x54 0x48 0x4f 0x4e \n"
     ]
    }
   ],
   "source": [
    "\n",
    "string1 = 'ASCII TABLE'\n",
    "string2 = 'PYTHON'\n",
    "\n",
    "def show_ch_to_ascii(t):\n",
    "    for s in t:\n",
    "        print(hex(ord(s)), end = ' ')\n",
    "    print()\n",
    "show_ch_to_ascii(string1)\n",
    "show_ch_to_ascii(string2)\n",
    "    \n",
    "    "
   ]
  },
  {
   "cell_type": "code",
   "execution_count": 11,
   "metadata": {},
   "outputs": [
    {
     "name": "stdout",
     "output_type": "stream",
     "text": [
      "[(1, 'a', '가'), (2, 'b', '나'), (3, 'c', '다'), (4, 'd', '라')]\n"
     ]
    }
   ],
   "source": [
    "list1 = [1,2,3,4]\n",
    "list2 = ['a','b','c','d']\n",
    "list3 = ['가','나','다','라']\n",
    "\n",
    "print(list(zip(list1,list2,list3)))"
   ]
  },
  {
   "cell_type": "code",
   "execution_count": null,
   "metadata": {},
   "outputs": [],
   "source": []
  },
  {
   "cell_type": "code",
   "execution_count": 12,
   "metadata": {},
   "outputs": [
    {
     "name": "stdout",
     "output_type": "stream",
     "text": [
      "['C:\\\\Users\\\\KimTaeWan', 'C:\\\\Users\\\\KimTaeWan\\\\Miniconda3\\\\python37.zip', 'C:\\\\Users\\\\KimTaeWan\\\\Miniconda3\\\\DLLs', 'C:\\\\Users\\\\KimTaeWan\\\\Miniconda3\\\\lib', 'C:\\\\Users\\\\KimTaeWan\\\\Miniconda3', '', 'C:\\\\Users\\\\KimTaeWan\\\\Miniconda3\\\\lib\\\\site-packages', 'C:\\\\Users\\\\KimTaeWan\\\\Miniconda3\\\\lib\\\\site-packages\\\\win32', 'C:\\\\Users\\\\KimTaeWan\\\\Miniconda3\\\\lib\\\\site-packages\\\\win32\\\\lib', 'C:\\\\Users\\\\KimTaeWan\\\\Miniconda3\\\\lib\\\\site-packages\\\\Pythonwin', 'C:\\\\Users\\\\KimTaeWan\\\\Miniconda3\\\\lib\\\\site-packages\\\\IPython\\\\extensions', 'C:\\\\Users\\\\KimTaeWan\\\\.ipython']\n"
     ]
    }
   ],
   "source": [
    "import sys\n",
    "print(sys.path)"
   ]
  },
  {
   "cell_type": "code",
   "execution_count": 13,
   "metadata": {},
   "outputs": [],
   "source": [
    "\n",
    "import pickle\n",
    "class NowData:\n",
    "    def __init__(self):\n",
    "        self.x = 0\n",
    "        self.y = 0\n",
    "    def move(self, x, y):\n",
    "        self.x = x\n",
    "        self.y = y\n",
    "    def get_location(self):\n",
    "        return self.x, self.y\n",
    "data = NowData()\n",
    "data.move(100, 200)\n",
    "\n",
    "file=open('data.bin', 'wb')\n",
    "pickle.dump(data,file)\n",
    "file.close()"
   ]
  },
  {
   "cell_type": "code",
   "execution_count": 16,
   "metadata": {},
   "outputs": [
    {
     "name": "stdout",
     "output_type": "stream",
     "text": [
      "(100, 200)\n"
     ]
    }
   ],
   "source": [
    "import pickle\n",
    "\n",
    "file=open('data.bin','rb')\n",
    "data=pickle.load(file)\n",
    "print(data.get_location())\n",
    "file.close()"
   ]
  },
  {
   "cell_type": "code",
   "execution_count": 23,
   "metadata": {},
   "outputs": [],
   "source": [
    "# import os\n",
    "\n",
    "# # os.mkdir('C:/Users/KimTaeWan/test1/test2')\n",
    "# file=open('C:/Users/KimTaeWan/test1/test2/test3.txt', 'wt')\n",
    "# file.write('ddd')\n",
    "# file.close()"
   ]
  },
  {
   "cell_type": "code",
   "execution_count": 28,
   "metadata": {},
   "outputs": [
    {
     "name": "stdout",
     "output_type": "stream",
     "text": [
      "['C:/Users/KimTaeWan/test1/test2\\\\hosts', 'C:/Users/KimTaeWan/test1/test2\\\\test3.txt']\n"
     ]
    }
   ],
   "source": [
    "import shutil\n",
    "import glob\n",
    "import pickle\n",
    "# shutil.copy('C:/Windows/System32/drivers/etc/hosts', 'C:/Users/KimTaeWan/test1/test2')\n",
    "\n",
    "fileList = glob.glob('C:/Users/KimTaeWan/test1/test2/*')\n",
    "print(fileList)"
   ]
  },
  {
   "cell_type": "code",
   "execution_count": 353,
   "metadata": {},
   "outputs": [
    {
     "name": "stdout",
     "output_type": "stream",
     "text": [
      "time.struct_time(tm_year=2020, tm_mon=1, tm_mday=15, tm_hour=16, tm_min=14, tm_sec=15, tm_wday=2, tm_yday=15, tm_isdst=0)\n"
     ]
    }
   ],
   "source": [
    "import time\n",
    "\n",
    "time_now = time.time()\n",
    "time_local = time.localtime(time_now)\n",
    "\n",
    "print(time_local)"
   ]
  },
  {
   "cell_type": "code",
   "execution_count": 355,
   "metadata": {},
   "outputs": [
    {
     "name": "stdout",
     "output_type": "stream",
     "text": [
      "화\n"
     ]
    }
   ],
   "source": [
    "import calendar\n",
    "week_dict = { 0 : '월', 1 : '화', 2 : '수', 3 : '목', 4 : '금', 5 : '토', 6 : '일' }\n",
    "\n",
    "print(week_dict[calendar.weekday(2017,5,9)])\n"
   ]
  },
  {
   "cell_type": "code",
   "execution_count": 359,
   "metadata": {},
   "outputs": [
    {
     "name": "stdout",
     "output_type": "stream",
     "text": [
      "    August 2004\n",
      "Mo Tu We Th Fr Sa Su\n",
      "                   1\n",
      " 2  3  4  5  6  7  8\n",
      " 9 10 11 12 13 14 15\n",
      "16 17 18 19 20 21 22\n",
      "23 24 25 26 27 28 29\n",
      "30 31\n",
      "2\n",
      "9\n",
      "16\n",
      "23\n",
      "30\n"
     ]
    }
   ],
   "source": [
    "calendar.prmonth(2004, 8)\n",
    "\n",
    "for i in range(1,calendar.monthrange(2004,8)[1]+1):\n",
    "    if(calendar.weekday(2004, 8, i) == 0) : print(i)"
   ]
  },
  {
   "cell_type": "code",
   "execution_count": null,
   "metadata": {},
   "outputs": [],
   "source": []
  }
 ],
 "metadata": {
  "kernelspec": {
   "display_name": "Python 3",
   "language": "python",
   "name": "python3"
  },
  "language_info": {
   "codemirror_mode": {
    "name": "ipython",
    "version": 3
   },
   "file_extension": ".py",
   "mimetype": "text/x-python",
   "name": "python",
   "nbconvert_exporter": "python",
   "pygments_lexer": "ipython3",
   "version": "3.7.4"
  }
 },
 "nbformat": 4,
 "nbformat_minor": 2
}
