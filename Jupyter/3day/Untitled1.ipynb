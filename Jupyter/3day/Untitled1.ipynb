{
 "cells": [
  {
   "cell_type": "code",
   "execution_count": 2,
   "metadata": {},
   "outputs": [
    {
     "name": "stdout",
     "output_type": "stream",
     "text": [
      " 가나다라 카타파하\n",
      " ABCD WXYZ\n"
     ]
    }
   ],
   "source": [
    "class Letter:\n",
    "    letter = ''\n",
    "    \n",
    "    def write(self, text):\n",
    "        self.letter += ' ' + text\n",
    "    \n",
    "    def show(self):\n",
    "        return self.letter\n",
    "    \n",
    "letter1 = Letter()\n",
    "\n",
    "letter1.write('가나다라')\n",
    "letter1.write('카타파하')\n",
    "\n",
    "letter2 = Letter()\n",
    "\n",
    "letter2.write('ABCD')\n",
    "letter2.write('WXYZ')\n",
    "\n",
    "print(letter1.show())\n",
    "print(letter2.show())"
   ]
  },
  {
   "cell_type": "code",
   "execution_count": 3,
   "metadata": {},
   "outputs": [
    {
     "name": "stdout",
     "output_type": "stream",
     "text": [
      "Python 10000\n",
      "Java 10000\n"
     ]
    }
   ],
   "source": [
    "class Book:\n",
    " # 코드 작성\n",
    "    title = ''\n",
    "    price = 0\n",
    "    \n",
    "    def setTitle(self, bookTitle):\n",
    "        self.title = bookTitle\n",
    "    def setPrice(self, bookPrice):\n",
    "        self.price = bookPrice\n",
    "        \n",
    "book1 = Book()\n",
    "book1.setTitle('Python')\n",
    "book1.setPrice(10000)\n",
    "book2 = Book()\n",
    "book2.setTitle('Java')\n",
    "book2.setPrice(10000)\n",
    "print(book1.title, book1.price)\n",
    "print(book2.title, book2.price)"
   ]
  },
  {
   "cell_type": "code",
   "execution_count": 8,
   "metadata": {},
   "outputs": [
    {
     "name": "stdout",
     "output_type": "stream",
     "text": [
      "['전동 트렁크', '통풍 시트']\n",
      "['뒷자리 에어백', '하이패스']\n"
     ]
    }
   ],
   "source": [
    "class Car:\n",
    " # 생성자 작성\n",
    " # add_option 메소드 작성\n",
    " # show_option 메소드 작성\n",
    "    \n",
    "    def __init__(self):\n",
    "        self.option_list = []\n",
    "    def add_option(self, option):\n",
    "        self.option_list.append(option)\n",
    "    def show_option(self):\n",
    "        return self.option_list\n",
    "\n",
    "car1 = Car()\n",
    "car2 = Car()\n",
    "car1.add_option('전동 트렁크')\n",
    "car1.add_option('통풍 시트')\n",
    "car2.add_option('뒷자리 에어백')\n",
    "car2.add_option('하이패스')\n",
    "print(car1.show_option())\n",
    "print(car2.show_option())"
   ]
  },
  {
   "cell_type": "code",
   "execution_count": 11,
   "metadata": {},
   "outputs": [
    {
     "name": "stdout",
     "output_type": "stream",
     "text": [
      "['치즈', '베이컨', '고구마']\n",
      "['불고기', '피망']\n"
     ]
    }
   ],
   "source": [
    "class Pizza:\n",
    " # 생성자 작성\n",
    " # add_topping 메소드 작성\n",
    " # remove 메소드 작성\n",
    " # show_topping 메소드 작성\n",
    "    def __init__(self):\n",
    "        self.toppings = []\n",
    "    def add_topping(self, topping):\n",
    "        self.toppings.append(topping)\n",
    "    def remove(self, topping):\n",
    "        self.toppings.remove(topping)\n",
    "    def show_topping(self):\n",
    "        return self.toppings;\n",
    "    \n",
    "p1 = Pizza()\n",
    "p1.add_topping('치즈')\n",
    "p1.add_topping('베이컨')\n",
    "p1.add_topping('고구마')\n",
    "p2 = Pizza()\n",
    "p2.add_topping('소시지')\n",
    "p2.add_topping('불고기')\n",
    "p2.add_topping('피망')\n",
    "p2.remove('소시지')\n",
    "print(p1.show_topping())\n",
    "print(p2.show_topping())"
   ]
  },
  {
   "cell_type": "code",
   "execution_count": 13,
   "metadata": {},
   "outputs": [
    {
     "name": "stdout",
     "output_type": "stream",
     "text": [
      "합계 15\n"
     ]
    }
   ],
   "source": [
    "class EachSum:\n",
    "    def __init__(self):\n",
    "        self.total = 0\n",
    "\n",
    "    def compute(self, num):\n",
    "        ntos = str(num)\n",
    "        for i in range(0, len(ntos)):\n",
    "            self.total += int(ntos[i])\n",
    "        return self.total\n",
    " # 코드 작성\n",
    "each = EachSum()\n",
    "total = each.compute(12345)\n",
    "print('합계', total)\n"
   ]
  },
  {
   "cell_type": "code",
   "execution_count": 42,
   "metadata": {},
   "outputs": [
    {
     "name": "stdout",
     "output_type": "stream",
     "text": [
      "쌀국수\n"
     ]
    }
   ],
   "source": [
    "import random\n",
    "class SelectMenu:\n",
    "    def __init__(self, menulist):\n",
    "        self.menu=menulist\n",
    "        self.choice = self.menu[random.randint(0,3)]\n",
    "    def get_menu(self):\n",
    "        return self.choice\n",
    "        \n",
    " # 코드 작성\n",
    "menu = SelectMenu(['짬뽕', '초밥', '쌀국수', '주꾸미'])\n",
    "print(menu.get_menu())"
   ]
  },
  {
   "cell_type": "code",
   "execution_count": 47,
   "metadata": {},
   "outputs": [],
   "source": [
    "import Calendar as cal"
   ]
  },
  {
   "cell_type": "code",
   "execution_count": 48,
   "metadata": {},
   "outputs": [
    {
     "data": {
      "text/plain": [
       "8"
      ]
     },
     "execution_count": 48,
     "metadata": {},
     "output_type": "execute_result"
    }
   ],
   "source": [
    "cal.plus(3,5)"
   ]
  },
  {
   "cell_type": "code",
   "execution_count": 49,
   "metadata": {},
   "outputs": [],
   "source": [
    "from Calendar import minus, plus"
   ]
  },
  {
   "cell_type": "code",
   "execution_count": 50,
   "metadata": {},
   "outputs": [
    {
     "data": {
      "text/plain": [
       "8"
      ]
     },
     "execution_count": 50,
     "metadata": {},
     "output_type": "execute_result"
    }
   ],
   "source": [
    "plus(3,5)"
   ]
  },
  {
   "cell_type": "code",
   "execution_count": 63,
   "metadata": {},
   "outputs": [
    {
     "data": {
      "text/plain": [
       "3"
      ]
     },
     "execution_count": 63,
     "metadata": {},
     "output_type": "execute_result"
    }
   ],
   "source": [
    "from mymod import myfunc\n",
    "\n",
    "myfunc(1, 2)\n"
   ]
  },
  {
   "cell_type": "code",
   "execution_count": 64,
   "metadata": {},
   "outputs": [
    {
     "name": "stdout",
     "output_type": "stream",
     "text": [
      "A\n",
      "A\n"
     ]
    }
   ],
   "source": [
    "import mod_class as mc\n",
    "my_class = mc.MyClass('A')\n",
    "my_class.show()\n",
    "print(my_class.get_name())\n"
   ]
  },
  {
   "cell_type": "code",
   "execution_count": 66,
   "metadata": {},
   "outputs": [
    {
     "name": "stdout",
     "output_type": "stream",
     "text": [
      "sound2\n"
     ]
    }
   ],
   "source": [
    "# import driver.sound.sound1\n",
    "# from driver.sound.sound2 import *"
   ]
  },
  {
   "cell_type": "code",
   "execution_count": 70,
   "metadata": {},
   "outputs": [],
   "source": [
    "# import driver.vga.vgap1\n",
    "# from driver.vga import *"
   ]
  },
  {
   "cell_type": "code",
   "execution_count": null,
   "metadata": {},
   "outputs": [],
   "source": []
  }
 ],
 "metadata": {
  "kernelspec": {
   "display_name": "Python 3",
   "language": "python",
   "name": "python3"
  },
  "language_info": {
   "codemirror_mode": {
    "name": "ipython",
    "version": 3
   },
   "file_extension": ".py",
   "mimetype": "text/x-python",
   "name": "python",
   "nbconvert_exporter": "python",
   "pygments_lexer": "ipython3",
   "version": "3.7.4"
  }
 },
 "nbformat": 4,
 "nbformat_minor": 2
}
