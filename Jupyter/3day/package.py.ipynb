{
 "cells": [
  {
   "cell_type": "code",
   "execution_count": 1,
   "metadata": {},
   "outputs": [
    {
     "name": "stdout",
     "output_type": "stream",
     "text": [
      "barcode reader: 1234\n",
      "qrcode reader: 5678\n",
      "====================\n",
      "barcode print: 1234\n",
      "qrcode print: 5678\n",
      "barcode screen: 1234\n",
      "qrcode screen: 5678\n"
     ]
    }
   ],
   "source": [
    "from driver.vga import *\n",
    "import driver.sound.file as file\n",
    "import driver.sound.print as printer\n",
    "import driver.sound.screen as screen\n",
    "barcode.read(1234)\n",
    "qrcode.read(5678)\n",
    "print('='*20)\n",
    "file.write()\n",
    "printer.write()\n",
    "screen.write()"
   ]
  },
  {
   "cell_type": "code",
   "execution_count": null,
   "metadata": {},
   "outputs": [],
   "source": []
  }
 ],
 "metadata": {
  "kernelspec": {
   "display_name": "Python 3",
   "language": "python",
   "name": "python3"
  },
  "language_info": {
   "codemirror_mode": {
    "name": "ipython",
    "version": 3
   },
   "file_extension": ".py",
   "mimetype": "text/x-python",
   "name": "python",
   "nbconvert_exporter": "python",
   "pygments_lexer": "ipython3",
   "version": "3.7.4"
  }
 },
 "nbformat": 4,
 "nbformat_minor": 2
}
