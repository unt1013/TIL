{
 "cells": [
  {
   "cell_type": "code",
   "execution_count": 5,
   "metadata": {},
   "outputs": [
    {
     "name": "stdout",
     "output_type": "stream",
     "text": [
      "2020-1-19 18:1:42\n"
     ]
    }
   ],
   "source": [
    "import time\n",
    "\n",
    "date = time.localtime(time.time())\n",
    "datestr = str(date.tm_year) + '-' + str(date.tm_mon) + '-' + str(date.tm_mday)\n",
    "datestr += ' ' + str(date.tm_hour) + ':' + str(date.tm_min) + ':' + str(date.tm_sec)\n",
    "print(datestr)"
   ]
  },
  {
   "cell_type": "code",
   "execution_count": 6,
   "metadata": {},
   "outputs": [
    {
     "name": "stdout",
     "output_type": "stream",
     "text": [
      "2020-4-28 18:3:35\n"
     ]
    }
   ],
   "source": [
    "date = time.localtime(time.time() + 100 * 24 * 60 * 60)\n",
    "\n",
    "datestr = str(date.tm_year) + '-' + str(date.tm_mon) + '-' + str(date.tm_mday)\n",
    "datestr += ' ' + str(date.tm_hour) + ':' + str(date.tm_min) + ':' + str(date.tm_sec)\n",
    "\n",
    "print(datestr)"
   ]
  },
  {
   "cell_type": "code",
   "execution_count": 8,
   "metadata": {},
   "outputs": [
    {
     "name": "stdout",
     "output_type": "stream",
     "text": [
      "2020-01-19 18:04:16.668335\n"
     ]
    }
   ],
   "source": [
    "import datetime\n",
    "\n",
    "dt = datetime.datetime.now()\n",
    "\n",
    "print(dt)\n"
   ]
  },
  {
   "cell_type": "code",
   "execution_count": 12,
   "metadata": {},
   "outputs": [
    {
     "name": "stdout",
     "output_type": "stream",
     "text": [
      "3.53\n"
     ]
    }
   ],
   "source": [
    "import random\n",
    "\n",
    "rannum = random.random() * 5\n",
    "rannum = round(rannum, 2)\n",
    "\n",
    "print(rannum)"
   ]
  },
  {
   "cell_type": "code",
   "execution_count": 20,
   "metadata": {},
   "outputs": [
    {
     "name": "stdout",
     "output_type": "stream",
     "text": [
      "6 ,  1\n",
      "2 ,  6\n",
      "5 ,  4\n",
      "6 ,  4\n",
      "2 ,  2\n",
      "5\n"
     ]
    }
   ],
   "source": [
    "count = 0\n",
    "\n",
    "while True:\n",
    "    ran1 = random.randint(1,6)\n",
    "    ran2 = random.randint(1,6)\n",
    "    count+=1\n",
    "    print(ran1, ', ', ran2)\n",
    "    if(ran1 == ran2) :\n",
    "        print(count)\n",
    "        break"
   ]
  },
  {
   "cell_type": "code",
   "execution_count": 33,
   "metadata": {},
   "outputs": [
    {
     "name": "stdout",
     "output_type": "stream",
     "text": [
      "04 20 01 19 24 \n",
      "10 12 07 15 03 \n",
      "13 05 22 18 06 \n",
      "14 02 08 09 16 \n",
      "17 21 11 25 23 \n",
      "\n"
     ]
    }
   ],
   "source": [
    "bingo = list()\n",
    "\n",
    "for i in range(1, 26):\n",
    "    if i < 10: i = '0' + str(i)\n",
    "    bingo.append(str(i))\n",
    "    \n",
    "random.shuffle(bingo)\n",
    "bingostr = ''\n",
    "for i in range(0,25) :\n",
    "    bingostr += bingo[i] + ' '\n",
    "    if((i + 1) % 5 == 0) : bingostr += '\\n'\n",
    "        \n",
    "print(bingostr)"
   ]
  },
  {
   "cell_type": "code",
   "execution_count": 36,
   "metadata": {},
   "outputs": [
    {
     "data": {
      "text/plain": [
       "True"
      ]
     },
     "execution_count": 36,
     "metadata": {},
     "output_type": "execute_result"
    }
   ],
   "source": [
    "import webbrowser as WB\n",
    "\n",
    "# webbrowser.open('http://google.com')\n",
    "# WB.open_new('http://google.com')"
   ]
  },
  {
   "cell_type": "code",
   "execution_count": 38,
   "metadata": {},
   "outputs": [
    {
     "data": {
      "text/plain": [
       "True"
      ]
     },
     "execution_count": 38,
     "metadata": {},
     "output_type": "execute_result"
    }
   ],
   "source": [
    "WB.open('http://nlotto.co.kr/gameResult.do?method=byWin&drwNo=' + str(random.randint(1,800)))\n"
   ]
  },
  {
   "cell_type": "code",
   "execution_count": 42,
   "metadata": {},
   "outputs": [
    {
     "name": "stdout",
     "output_type": "stream",
     "text": [
      "홍길동\n",
      "30\n"
     ]
    }
   ],
   "source": [
    "from collections import namedtuple as NT\n",
    "\n",
    "Student = NT('Student',['name', 'score'])\n",
    "\n",
    "a = Student('홍길동', 30)\n",
    "\n",
    "print(a.name)\n",
    "print(a.score)"
   ]
  },
  {
   "cell_type": "code",
   "execution_count": 43,
   "metadata": {},
   "outputs": [
    {
     "name": "stdout",
     "output_type": "stream",
     "text": [
      "\n",
      "dict_items([('L', 1), ('i', 2), ('f', 1), ('e', 3), (' ', 6), ('s', 2), ('t', 3), ('o', 5), ('h', 2), ('r', 1), (',', 1), ('y', 2), ('u', 1), ('n', 2), ('d', 1), ('p', 1)])\n"
     ]
    }
   ],
   "source": [
    "text = 'Life is too short, you need python'\n",
    "d = dict()\n",
    "print()\n",
    "for t in text:\n",
    "    if t in d: # dictionary에 key가 있다면 기존값 + 1\n",
    "        d[t] += 1\n",
    "    else: # dictionary에 key가 없다면 초기값 1 입력\n",
    "        d[t] = 1\n",
    "print(d.items())"
   ]
  },
  {
   "cell_type": "code",
   "execution_count": 45,
   "metadata": {},
   "outputs": [
    {
     "name": "stdout",
     "output_type": "stream",
     "text": [
      "dict_items([('L', 1), ('i', 2), ('f', 1), ('e', 3), (' ', 6), ('s', 2), ('t', 3), ('o', 5), ('h', 2), ('r', 1), (',', 1), ('y', 2), ('u', 1), ('n', 2), ('d', 1), ('p', 1)])\n"
     ]
    }
   ],
   "source": [
    "from collections import defaultdict as DD\n",
    "text = 'Life is too short, you need python'\n",
    "\n",
    "d = DD(int)\n",
    "\n",
    "for t in text:\n",
    "    d[t] += 1\n",
    "    \n",
    "print(d.items())"
   ]
  }
 ],
 "metadata": {
  "kernelspec": {
   "display_name": "Python 3",
   "language": "python",
   "name": "python3"
  },
  "language_info": {
   "codemirror_mode": {
    "name": "ipython",
    "version": 3
   },
   "file_extension": ".py",
   "mimetype": "text/x-python",
   "name": "python",
   "nbconvert_exporter": "python",
   "pygments_lexer": "ipython3",
   "version": "3.7.4"
  }
 },
 "nbformat": 4,
 "nbformat_minor": 2
}
