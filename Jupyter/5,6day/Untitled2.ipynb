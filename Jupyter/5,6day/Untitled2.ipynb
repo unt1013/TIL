{
 "cells": [
  {
   "cell_type": "code",
   "execution_count": 1,
   "metadata": {},
   "outputs": [
    {
     "name": "stdout",
     "output_type": "stream",
     "text": [
      "0\n"
     ]
    }
   ],
   "source": [
    "import requests as RQ\n",
    "from bs4 import BeautifulSoup as BS\n",
    "\n",
    "result = RQ.get('http://ggoreb.com/http/wait.jsp')\n",
    "soup = BS(result.text, 'html.parser')\n",
    "\n",
    "print(len(soup.find_all('p')))"
   ]
  },
  {
   "cell_type": "code",
   "execution_count": 1,
   "metadata": {},
   "outputs": [
    {
     "name": "stdout",
     "output_type": "stream",
     "text": [
      "[<selenium.webdriver.remote.webelement.WebElement (session=\"98dd7a34984112633d23ff624edc5b4f\", element=\"a4b978cb-0414-49ad-92ef-ffb84a3698b6\")>]\n",
      "\n",
      "내용\n"
     ]
    }
   ],
   "source": [
    "from selenium import webdriver as wd\n",
    "\n",
    "driver = wd.Chrome(executable_path='chromedriver.exe')\n",
    "driver.get('http://ggoreb.com/http/wait.jsp')\n",
    "print(driver.find_elements_by_tag_name('p'))\n",
    "print()\n",
    "print(driver.find_elements_by_tag_name('p')[0].text)"
   ]
  },
  {
   "cell_type": "code",
   "execution_count": 2,
   "metadata": {},
   "outputs": [
    {
     "name": "stdout",
     "output_type": "stream",
     "text": [
      "[<selenium.webdriver.remote.webelement.WebElement (session=\"d827ec7546ac014c2c4c84976bbae2b9\", element=\"9a98dc80-1868-4800-a98f-00eefec52b92\")>]\n"
     ]
    }
   ],
   "source": [
    "driver = wd.Chrome(executable_path='chromedriver.exe')\n",
    "driver.get('http://ggoreb.com/http/wait.jsp')\n",
    "\n",
    "print(driver.find_elements_by_tag_name('p'))\n"
   ]
  }
 ],
 "metadata": {
  "kernelspec": {
   "display_name": "Python 3",
   "language": "python",
   "name": "python3"
  },
  "language_info": {
   "codemirror_mode": {
    "name": "ipython",
    "version": 3
   },
   "file_extension": ".py",
   "mimetype": "text/x-python",
   "name": "python",
   "nbconvert_exporter": "python",
   "pygments_lexer": "ipython3",
   "version": "3.7.4"
  }
 },
 "nbformat": 4,
 "nbformat_minor": 2
}
