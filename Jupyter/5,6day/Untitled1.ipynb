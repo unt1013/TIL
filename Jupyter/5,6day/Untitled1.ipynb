{
 "cells": [
  {
   "cell_type": "code",
   "execution_count": 24,
   "metadata": {},
   "outputs": [
    {
     "name": "stdout",
     "output_type": "stream",
     "text": [
      "<re.Match object; span=(3, 4), match='가'>\n",
      "<re.Match object; span=(0, 1), match='가'>\n"
     ]
    }
   ],
   "source": [
    "import re\n",
    "\n",
    "pattern = re.compile('[^abc]')\n",
    "print(pattern.search('abc가나다'))\n",
    "print(pattern.search('가나다abc'))"
   ]
  },
  {
   "cell_type": "code",
   "execution_count": 29,
   "metadata": {},
   "outputs": [
    {
     "name": "stdout",
     "output_type": "stream",
     "text": [
      "<re.Match object; span=(14, 26), match='02-1234-1678'>\n"
     ]
    }
   ],
   "source": [
    "text = \"기타 사항은 전화번호 : 02-1234-1678로\"\n",
    "pattern = re.compile(\"\\d{2}-\\d{3,}-\\d{4}\")\n",
    "res = pattern.search(text)\n",
    "print(res)"
   ]
  },
  {
   "cell_type": "code",
   "execution_count": 50,
   "metadata": {},
   "outputs": [
    {
     "data": {
      "text/plain": [
       "\"<html lang='ko'>\\n<head>\\n    <meta charset='utf-8' >\\n</head>\\n<body>\\n    <h3>\\n        <a href='#'>허니비</a>\\n    </h3>\\n</body>\\n</html>\""
      ]
     },
     "execution_count": 50,
     "metadata": {},
     "output_type": "execute_result"
    }
   ],
   "source": [
    "import requests as RQ\n",
    "\n",
    "result = RQ.get('http://ggoreb.com/http')\n",
    "result.status_code\n",
    "result.encoding = 'utf-8'\n",
    "result.text"
   ]
  },
  {
   "cell_type": "code",
   "execution_count": 51,
   "metadata": {},
   "outputs": [
    {
     "data": {
      "text/plain": [
       "\"<html lang='ko'>\\n<head>\\n    <meta charset='utf-8' >\\n</head>\\n<body>\\n    <h3>\\n        <a href='#'>허니비</a>\\n    </h3>\\n</body>\\n</html>\""
      ]
     },
     "execution_count": 51,
     "metadata": {},
     "output_type": "execute_result"
    }
   ],
   "source": [
    "def get_html(url):\n",
    "    html=''\n",
    "    res=RQ.get(url)\n",
    "    if(res.status_code==200):\n",
    "        res.encoding=None\n",
    "        html=res.text\n",
    "    return html\n",
    "\n",
    "get_html('http://ggoreb.com/http')"
   ]
  },
  {
   "cell_type": "code",
   "execution_count": 38,
   "metadata": {},
   "outputs": [
    {
     "name": "stdout",
     "output_type": "stream",
     "text": [
      "200\n",
      "\n",
      "\n",
      "\n",
      "method : GET<br>\n",
      "query string<br>\n",
      "<br><br>\n",
      "header<br>\n",
      "key : accept, value : */*<br>\n",
      "key : Accept-Encoding, value : gzip, deflate<br>\n",
      "key : connection, value : close<br>\n",
      "key : host, value : ggoreb.com<br>\n",
      "key : HOSTING_CONTINENT_CODE, value : AS<br>\n",
      "key : HOSTING_COUNTRY_CODE, value : KR<br>\n",
      "key : HOSTING_WHITE_IP, value : false<br>\n",
      "key : user-agent, value : python-requests/2.22.0<br>\n",
      "key : X-Forwarded-Proto, value : http<br>\n",
      "key : X-SERVER_PORT, value : 80<br>\n",
      "key : X-SERVER_PROTOCOL, value : HTTP/1.1<br>\n",
      "key : X-SIMPLEXI, value : 110.70.51.69<br>\n",
      "key : content-length, value : 0<br>\n",
      "\n"
     ]
    }
   ],
   "source": [
    "res = RQ.get('http://ggoreb.com/python/request.jsp')\n",
    "print(res.status_code)\n",
    "print(res.text)"
   ]
  },
  {
   "cell_type": "code",
   "execution_count": 40,
   "metadata": {},
   "outputs": [
    {
     "name": "stdout",
     "output_type": "stream",
     "text": [
      "\n",
      "\n",
      "\n",
      "method : GET<br>\n",
      "query string<br>\n",
      "key : search, value : 검색어<br>\n",
      "key : page, value : 1<br>\n",
      "<br><br>\n",
      "header<br>\n",
      "key : accept, value : */*<br>\n",
      "key : Accept-Encoding, value : gzip, deflate<br>\n",
      "key : accept-language, value : en<br>\n",
      "key : connection, value : close<br>\n",
      "key : host, value : ggoreb.com<br>\n",
      "key : HOSTING_CONTINENT_CODE, value : AS<br>\n",
      "key : HOSTING_COUNTRY_CODE, value : KR<br>\n",
      "key : HOSTING_WHITE_IP, value : false<br>\n",
      "key : user-agent, value : android<br>\n",
      "key : X-Forwarded-Proto, value : http<br>\n",
      "key : X-SERVER_PORT, value : 80<br>\n",
      "key : X-SERVER_PROTOCOL, value : HTTP/1.1<br>\n",
      "key : X-SIMPLEXI, value : 110.70.51.69<br>\n",
      "key : content-length, value : 0<br>\n",
      "\n"
     ]
    }
   ],
   "source": [
    "param = {'page':1, 'search': '검색어'}\n",
    "header = {'user-agent':'android', 'accept-language':'en'}\n",
    "res = RQ.get('http://ggoreb.com/python/request.jsp', params=param, headers=header)\n",
    "print(res.text)"
   ]
  },
  {
   "cell_type": "code",
   "execution_count": 44,
   "metadata": {},
   "outputs": [
    {
     "name": "stdout",
     "output_type": "stream",
     "text": [
      "Jill\n",
      "Smith\n",
      "50\n",
      "Eve\n",
      "Jackson\n",
      "94\n",
      "John\n",
      "Doe\n",
      "80\n"
     ]
    }
   ],
   "source": [
    "result = get_html('http://ggoreb.com/python/html/data1.html')\n",
    "\n",
    "s_idx=0\n",
    "e_idx=0\n",
    "while True:\n",
    "    s_idx = result.find('<td>', e_idx)\n",
    "    if s_idx == -1: break\n",
    "    e_idx = result.find('</td>', s_idx)\n",
    "    print(result[s_idx + 4 : e_idx])"
   ]
  },
  {
   "cell_type": "code",
   "execution_count": 46,
   "metadata": {},
   "outputs": [
    {
     "name": "stdout",
     "output_type": "stream",
     "text": [
      "Alfreds Futterkiste\n",
      "Maria Anders\n",
      "Germany\n",
      "Centro comercial Moctezuma\n",
      "Francisco Chang\n",
      "Mexico\n",
      "Ernst Handel\n",
      "Roland Mendel\n",
      "Austria\n",
      "Island Trading\n",
      "Helen Bennett\n",
      "UK\n",
      "Laughing Bacchus Winecellars\n",
      "Yoshi Tannamuri\n",
      "Canada\n",
      "Magazzini Alimentari Riuniti\n",
      "Giovanni Rovelli\n",
      "Italy\n"
     ]
    }
   ],
   "source": [
    "result = get_html('http://ggoreb.com/python/html/data2.html')\n",
    "s_idx = 0\n",
    "e_idx = 0\n",
    "while True:\n",
    "    s_idx = result.find('<td>', e_idx)\n",
    "    if(s_idx == -1) : break\n",
    "    e_idx = result.find('</td>', s_idx)\n",
    "    print(result[s_idx + 4 : e_idx])"
   ]
  },
  {
   "cell_type": "code",
   "execution_count": 56,
   "metadata": {},
   "outputs": [
    {
     "name": "stdout",
     "output_type": "stream",
     "text": [
      "2,250.57\n",
      "688.41\n",
      "303.30\n"
     ]
    }
   ],
   "source": [
    "from bs4 import BeautifulSoup as BS\n",
    "\n",
    "result = get_html('https://finance.naver.com')\n",
    "\n",
    "soup = BS(result, 'html.parser')\n",
    "tags = soup.select('span.num')\n",
    "\n",
    "for tag in tags:\n",
    "    print(tag.getText())"
   ]
  },
  {
   "cell_type": "code",
   "execution_count": 63,
   "metadata": {},
   "outputs": [
    {
     "name": "stdout",
     "output_type": "stream",
     "text": [
      "<div class=\"ex_class\">\n",
      "<p>d</p>\n",
      "<p>e</p>\n",
      "<p>f</p>\n",
      "</div>\n"
     ]
    }
   ],
   "source": [
    "res = RQ.get('http://ggoreb.com/python/html/example.html')\n",
    "soup = BS(res.text, 'html.parser')\n",
    "# print(soup.find('div'))\n",
    "# print(soup.find('div').getText())\n",
    "\n",
    "# print(soup.find_all('div'))\n",
    "\n",
    "# print(soup.find('div', {'id':'ex_id'}))\n",
    "# print(soup.find(attrs={'id':'ex_id'}))\n",
    "\n",
    "print(soup.find(attrs={'class':'ex_class'}))"
   ]
  },
  {
   "cell_type": "code",
   "execution_count": 66,
   "metadata": {},
   "outputs": [
    {
     "name": "stdout",
     "output_type": "stream",
     "text": [
      "[<p class=\"desc\">a</p>, <p>b</p>]\n",
      "['a']\n",
      "['This is a heading 1', 'This is a paragraph.', 'This is another paragraph.', 'This is a heading 2']\n"
     ]
    }
   ],
   "source": [
    "res = RQ.get('http://ggoreb.com/python/html/example2.html')\n",
    "soup = BS(res.text, 'html.parser')\n",
    "\n",
    "print(soup.find_all('p', limit=2))\n",
    "print(soup.find_all(string='a'))\n",
    "print(soup.find_all(string=re.compile('This.*')))\n"
   ]
  },
  {
   "cell_type": "code",
   "execution_count": 69,
   "metadata": {},
   "outputs": [
    {
     "data": {
      "text/plain": [
       "['sub']"
      ]
     },
     "execution_count": 69,
     "metadata": {},
     "output_type": "execute_result"
    }
   ],
   "source": [
    "soup.find('h1',{'class':'sub'})['class']"
   ]
  },
  {
   "cell_type": "code",
   "execution_count": 72,
   "metadata": {},
   "outputs": [
    {
     "data": {
      "text/plain": [
       "{'data-role': 'click'}"
      ]
     },
     "execution_count": 72,
     "metadata": {},
     "output_type": "execute_result"
    }
   ],
   "source": [
    "soup.find('p',{'data-role':'click'}).attrs"
   ]
  },
  {
   "cell_type": "code",
   "execution_count": 75,
   "metadata": {},
   "outputs": [
    {
     "data": {
      "text/plain": [
       "<p>b</p>"
      ]
     },
     "execution_count": 75,
     "metadata": {},
     "output_type": "execute_result"
    }
   ],
   "source": [
    "soup.find(attrs={'class':'desc'}).find_next()"
   ]
  },
  {
   "cell_type": "code",
   "execution_count": 78,
   "metadata": {},
   "outputs": [
    {
     "name": "stdout",
     "output_type": "stream",
     "text": [
      "시즌1 후기\n",
      "278화 도둑 #4\n",
      "277화 도둑 #3\n",
      "276화 도둑 #2\n",
      "275화 도둑 #1\n",
      "274화 노래방과 오뎅트럭 #2\n",
      "273화 노래방과 오뎅트럭 #1\n",
      "272화 VR #2\n",
      "271화 VR #1\n",
      "270화 Head #5\n"
     ]
    }
   ],
   "source": [
    "result=get_html('https://comic.naver.com/webtoon/list.nhn?titleId=557672')\n",
    "parse = BS(result,'html.parser')\n",
    "\n",
    "titles = parse.select('td.title > a')\n",
    "for title in titles:\n",
    "    print(title.text.replace('\\n','') + )"
   ]
  },
  {
   "cell_type": "code",
   "execution_count": 84,
   "metadata": {},
   "outputs": [
    {
     "name": "stdout",
     "output_type": "stream",
     "text": [
      "/webtoon/detail.nhn?titleId=557672&no=297&weekday=thu\n",
      "nclk_v2(event,'lst.title','557672','297')\n",
      "시즌1 후기  //  2019.09.18\n",
      "/webtoon/detail.nhn?titleId=557672&no=296&weekday=thu\n",
      "nclk_v2(event,'lst.title','557672','296')\n",
      "278화 도둑 #4  //  2019.09.11\n",
      "/webtoon/detail.nhn?titleId=557672&no=295&weekday=thu\n",
      "nclk_v2(event,'lst.title','557672','295')\n",
      "277화 도둑 #3  //  2019.09.04\n",
      "/webtoon/detail.nhn?titleId=557672&no=294&weekday=thu\n",
      "nclk_v2(event,'lst.title','557672','294')\n",
      "276화 도둑 #2  //  2019.08.28\n",
      "/webtoon/detail.nhn?titleId=557672&no=293&weekday=thu\n",
      "nclk_v2(event,'lst.title','557672','293')\n",
      "275화 도둑 #1  //  2019.08.21\n",
      "/webtoon/detail.nhn?titleId=557672&no=292&weekday=thu\n",
      "nclk_v2(event,'lst.title','557672','292')\n",
      "274화 노래방과 오뎅트럭 #2  //  2019.08.14\n",
      "/webtoon/detail.nhn?titleId=557672&no=291&weekday=thu\n",
      "nclk_v2(event,'lst.title','557672','291')\n",
      "273화 노래방과 오뎅트럭 #1  //  2019.08.07\n",
      "/webtoon/detail.nhn?titleId=557672&no=290&weekday=thu\n",
      "nclk_v2(event,'lst.title','557672','290')\n",
      "272화 VR #2  //  2019.07.31\n",
      "/webtoon/detail.nhn?titleId=557672&no=289&weekday=thu\n",
      "nclk_v2(event,'lst.title','557672','289')\n",
      "271화 VR #1  //  2019.07.24\n",
      "/webtoon/detail.nhn?titleId=557672&no=288&weekday=thu\n",
      "nclk_v2(event,'lst.title','557672','288')\n",
      "270화 Head #5  //  2019.07.17\n"
     ]
    }
   ],
   "source": [
    "result=get_html('https://comic.naver.com/webtoon/list.nhn?titleId=557672')\n",
    "table = parse.select_one('table.viewList')\n",
    "trs = table.select('tr')\n",
    "for tr in trs:\n",
    "    title = tr.select_one('td.title > a')\n",
    "    if title:\n",
    "        print(title.get('href'))\n",
    "        print(title.get('onclick'))\n",
    "        print(title.text.replace('\\n', ''), end = '  //  ')\n",
    "    num = tr.select_one('.num')\n",
    "    if num:\n",
    "        print(num.text)"
   ]
  },
  {
   "cell_type": "code",
   "execution_count": 7,
   "metadata": {},
   "outputs": [],
   "source": [
    "def get_xml(url):\n",
    "    xml = ''\n",
    "    resp = RQ.get(url)\n",
    "    if(resp.status_code == 200):\n",
    "        resp.encoding = None\n",
    "        xml = resp.text\n",
    "    return xml"
   ]
  },
  {
   "cell_type": "code",
   "execution_count": 10,
   "metadata": {},
   "outputs": [
    {
     "name": "stdout",
     "output_type": "stream",
     "text": [
      "1\n",
      "kim\n"
     ]
    }
   ],
   "source": [
    "from bs4 import BeautifulSoup as BS\n",
    "import requests as RQ\n",
    "result = get_xml('http://ggoreb.com/python/xml/data1.xml')\n",
    "\n",
    "parse = BS(result, 'xml')\n",
    "person = parse.find('person')\n",
    "number = person.find('number')\n",
    "name = person.find('name')\n",
    "print(number.text)\n",
    "print(name.text)"
   ]
  },
  {
   "cell_type": "code",
   "execution_count": 11,
   "metadata": {},
   "outputs": [
    {
     "name": "stdout",
     "output_type": "stream",
     "text": [
      "1\n",
      "kim\n",
      "2\n",
      "lee\n",
      "3\n",
      "park\n"
     ]
    }
   ],
   "source": [
    "result = get_xml('http://ggoreb.com/python/xml/data2.xml')\n",
    "\n",
    "parse  = BS(result, 'xml')\n",
    "persons = parse.findAll('person')\n",
    "for person in persons:\n",
    "    number = person.find('number')\n",
    "    name = person.find('name')\n",
    "    print(number.text)\n",
    "    print(name.text)"
   ]
  },
  {
   "cell_type": "code",
   "execution_count": 17,
   "metadata": {},
   "outputs": [
    {
     "name": "stdout",
     "output_type": "stream",
     "text": [
      "Data [number=1, name=kim]\n",
      "Data [number=2, name=lee]\n",
      "Data [number=3, name=park]\n"
     ]
    }
   ],
   "source": [
    "class Data : \n",
    "    def __init__(self, Number, Name):\n",
    "        self.number = Number\n",
    "        self.name = Name\n",
    "    def __str__(self):\n",
    "        return 'Data [number=' + str(self.number) + ', name=' + self.name + ']'\n",
    "\n",
    "data_list = list()\n",
    "result = get_xml('http://ggoreb.com/python/xml/data2.xml')\n",
    "\n",
    "parse = BS(result, 'xml')\n",
    "persons = parse.findAll('person')\n",
    "for person in persons : \n",
    "    number = person.find('number')\n",
    "    name = person.find('name')\n",
    "    d = Data(number.text, name.text)\n",
    "    data_list.append(d)\n",
    "    \n",
    "for data in data_list:\n",
    "    print(data)"
   ]
  },
  {
   "cell_type": "code",
   "execution_count": 22,
   "metadata": {},
   "outputs": [
    {
     "name": "stdout",
     "output_type": "stream",
     "text": [
      "<class 'dict'>\n",
      "10\n",
      "GGoReb\n"
     ]
    }
   ],
   "source": [
    "result = RQ.get('http://ggoreb.com/python/json/data1.jsp')\n",
    "parse = result.json()\n",
    "\n",
    "print(type(parse))\n",
    "print(parse['age'])\n",
    "print(parse['name'])"
   ]
  },
  {
   "cell_type": "code",
   "execution_count": 26,
   "metadata": {},
   "outputs": [
    {
     "name": "stdout",
     "output_type": "stream",
     "text": [
      "<class 'list'>\n",
      "10 A\n",
      "11 B\n",
      "12 C\n"
     ]
    }
   ],
   "source": [
    "result = RQ.get('http://ggoreb.com/python/json/data2.jsp')\n",
    "parse = result.json()\n",
    "\n",
    "print(type(parse))\n",
    "\n",
    "for data in parse:\n",
    "    print(data['age'], data['name'])"
   ]
  },
  {
   "cell_type": "code",
   "execution_count": 37,
   "metadata": {},
   "outputs": [
    {
     "name": "stdout",
     "output_type": "stream",
     "text": [
      "<class 'list'>\n",
      "서울, 신림\n",
      "10\n",
      "A\n",
      "대전, 탄방\n",
      "11\n",
      "B\n",
      "부산, 해운대\n",
      "12\n",
      "C\n"
     ]
    }
   ],
   "source": [
    "result = RQ.get('http://ggoreb.com/python/json/data3.jsp')\n",
    "parse = result.json()\n",
    "\n",
    "print(type(parse))\n",
    "\n",
    "for data in parse :\n",
    "    address = data.get('address')\n",
    "    separator = ''\n",
    "    for add in address:\n",
    "        print(separator + add, end='')\n",
    "        separator = ', '\n",
    "    print()\n",
    "    print(data['age'])\n",
    "    print(data[\"name\"])"
   ]
  }
 ],
 "metadata": {
  "kernelspec": {
   "display_name": "Python 3",
   "language": "python",
   "name": "python3"
  },
  "language_info": {
   "codemirror_mode": {
    "name": "ipython",
    "version": 3
   },
   "file_extension": ".py",
   "mimetype": "text/x-python",
   "name": "python",
   "nbconvert_exporter": "python",
   "pygments_lexer": "ipython3",
   "version": "3.7.4"
  }
 },
 "nbformat": 4,
 "nbformat_minor": 2
}
