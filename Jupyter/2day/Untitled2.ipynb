{
 "cells": [
  {
   "cell_type": "code",
   "execution_count": 2,
   "metadata": {},
   "outputs": [
    {
     "name": "stdout",
     "output_type": "stream",
     "text": [
      "2 8\n"
     ]
    }
   ],
   "source": [
    "def minusfunction(a, b) :\n",
    "    return (int)(a-b);\n",
    "def plusfunction(a,b):\n",
    "    return (int)(a+b);\n",
    "\n",
    "result1 = minusfunction(5,3)\n",
    "result2 = plusfunction(5,3)\n",
    "\n",
    "print(result1,result2)"
   ]
  },
  {
   "cell_type": "code",
   "execution_count": null,
   "metadata": {},
   "outputs": [],
   "source": []
  },
  {
   "cell_type": "code",
   "execution_count": 4,
   "metadata": {},
   "outputs": [
    {
     "name": "stdout",
     "output_type": "stream",
     "text": [
      "6\n"
     ]
    }
   ],
   "source": [
    "def totaladd(maxcount):\n",
    "    result = 0;\n",
    "    for i in range(1,maxcount+1) :\n",
    "        result += i;\n",
    "    print(result)\n",
    "\n",
    "totaladd(3)"
   ]
  },
  {
   "cell_type": "code",
   "execution_count": 10,
   "metadata": {},
   "outputs": [
    {
     "name": "stdout",
     "output_type": "stream",
     "text": [
      "(30, 7.5)\n"
     ]
    }
   ],
   "source": [
    "def calculater(nums):\n",
    "    result = 0;\n",
    "    aver=0;\n",
    "    for i in nums :\n",
    "        result += i;\n",
    "    aver = result/len(nums)\n",
    "    \n",
    "    return (result, aver)\n",
    "result = calculater([3,7,9,11])\n",
    "print(result)"
   ]
  },
  {
   "cell_type": "code",
   "execution_count": null,
   "metadata": {},
   "outputs": [],
   "source": []
  }
 ],
 "metadata": {
  "kernelspec": {
   "display_name": "Python 3",
   "language": "python",
   "name": "python3"
  },
  "language_info": {
   "codemirror_mode": {
    "name": "ipython",
    "version": 3
   },
   "file_extension": ".py",
   "mimetype": "text/x-python",
   "name": "python",
   "nbconvert_exporter": "python",
   "pygments_lexer": "ipython3",
   "version": "3.7.4"
  }
 },
 "nbformat": 4,
 "nbformat_minor": 2
}
