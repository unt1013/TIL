{
 "cells": [
  {
   "cell_type": "code",
   "execution_count": 20,
   "metadata": {},
   "outputs": [
    {
     "name": "stdout",
     "output_type": "stream",
     "text": [
      "141\n"
     ]
    }
   ],
   "source": [
    "textfile = open('C:/Users/KimTaeWan/Desktop/multycampus/TIL/Jupyter/04_03_numbers_data.txt', 'rt', encoding = 'utf8')\n",
    "\n",
    "result = 0\n",
    "\n",
    "while(True):\n",
    "    data = textfile.readline()\n",
    "    if not data :\n",
    "        break;\n",
    "    else :\n",
    "        result+=int(data)\n",
    "\n",
    "print(result)\n",
    "textfile.close()"
   ]
  },
  {
   "cell_type": "code",
   "execution_count": null,
   "metadata": {},
   "outputs": [
    {
     "name": "stdout",
     "output_type": "stream",
     "text": [
      "python\n",
      "\n",
      "kotlin\n",
      "\n",
      "fortran\n"
     ]
    }
   ],
   "source": [
    "textfile = open('C:/Users/KimTaeWan/Desktop/multycampus/TIL/Jupyter/04_03_text_data.txt', 'rt', encoding = 'utf8')\n",
    "\n",
    "while(True):\n",
    "    data = textfile.readline()\n",
    "    if('t' in str(data)) : print(str(data))\n",
    "\n",
    "textfile.close()"
   ]
  },
  {
   "cell_type": "code",
   "execution_count": null,
   "metadata": {},
   "outputs": [],
   "source": []
  }
 ],
 "metadata": {
  "kernelspec": {
   "display_name": "Python 3",
   "language": "python",
   "name": "python3"
  },
  "language_info": {
   "codemirror_mode": {
    "name": "ipython",
    "version": 3
   },
   "file_extension": ".py",
   "mimetype": "text/x-python",
   "name": "python",
   "nbconvert_exporter": "python",
   "pygments_lexer": "ipython3",
   "version": "3.7.4"
  }
 },
 "nbformat": 4,
 "nbformat_minor": 2
}
