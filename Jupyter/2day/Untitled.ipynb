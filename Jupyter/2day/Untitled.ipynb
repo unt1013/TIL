{
 "cells": [
  {
   "cell_type": "code",
   "execution_count": 4,
   "metadata": {},
   "outputs": [
    {
     "name": "stdout",
     "output_type": "stream",
     "text": [
      "졸업\n"
     ]
    }
   ],
   "source": [
    "sublist = ['운영체제', '데이터베이스', '객체지향언어']\n",
    "average = 60\n",
    "\n",
    "if(len(sublist) >= 3 and average >= 70) : print(\"학위취득\")\n",
    "elif(len(sublist)>=3 or average >= 70) : print(\"졸업\")\n",
    "else : print('재수강')"
   ]
  },
  {
   "cell_type": "code",
   "execution_count": 5,
   "metadata": {},
   "outputs": [
    {
     "name": "stdout",
     "output_type": "stream",
     "text": [
      "이수완료\n"
     ]
    }
   ],
   "source": [
    "subject = {'자료구조' : 80, '알고리즘' : 60, '네트워크' : 90}\n",
    "\n",
    "if('자료구조' in subject) :\n",
    "    if(subject['자료구조'] >= 60):\n",
    "        print('이수완료')"
   ]
  },
  {
   "cell_type": "code",
   "execution_count": 7,
   "metadata": {},
   "outputs": [
    {
     "name": "stdout",
     "output_type": "stream",
     "text": [
      "짝수\n"
     ]
    }
   ],
   "source": [
    "num = 122\n",
    "\n",
    "if(num%2 == 0) : print(\"짝수\")\n",
    "else :print(\"홀수\")"
   ]
  },
  {
   "cell_type": "code",
   "execution_count": 8,
   "metadata": {},
   "outputs": [
    {
     "name": "stdout",
     "output_type": "stream",
     "text": [
      "쿵짝\n"
     ]
    }
   ],
   "source": [
    "score = 6\n",
    "\n",
    "if(score % 2 == 0 and score % 3 == 0) : print(\"쿵짝\")\n",
    "elif(score % 2 == 0) : print(\"짝\")\n",
    "elif(score % 3 == 0) : print(\"쿵\")\n",
    "else : print(score)"
   ]
  },
  {
   "cell_type": "code",
   "execution_count": null,
   "metadata": {},
   "outputs": [],
   "source": []
  }
 ],
 "metadata": {
  "kernelspec": {
   "display_name": "Python 3",
   "language": "python",
   "name": "python3"
  },
  "language_info": {
   "codemirror_mode": {
    "name": "ipython",
    "version": 3
   },
   "file_extension": ".py",
   "mimetype": "text/x-python",
   "name": "python",
   "nbconvert_exporter": "python",
   "pygments_lexer": "ipython3",
   "version": "3.7.4"
  }
 },
 "nbformat": 4,
 "nbformat_minor": 2
}
