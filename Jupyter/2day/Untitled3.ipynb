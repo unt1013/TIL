{
 "cells": [
  {
   "cell_type": "code",
   "execution_count": 2,
   "metadata": {},
   "outputs": [
    {
     "name": "stdout",
     "output_type": "stream",
     "text": [
      "6\n"
     ]
    }
   ],
   "source": [
    "def diff_sum(num1, num2, num3) :\n",
    "    result1 = num1 + num2 + num3\n",
    "    result2 = num1**2 + num2**2 + num3**2\n",
    "    \n",
    "    return result2 - result1\n",
    "\n",
    "print(diff_sum(2,2,2))"
   ]
  },
  {
   "cell_type": "code",
   "execution_count": 36,
   "metadata": {},
   "outputs": [
    {
     "name": "stdout",
     "output_type": "stream",
     "text": [
      "1\n"
     ]
    }
   ],
   "source": [
    "\n",
    "def get_token(n):\n",
    "    result = 0\n",
    "    for i in range(1, n+1):\n",
    "        result += i\n",
    "    return result\n",
    "\n",
    "def get_sequence(n):\n",
    "    result = 0\n",
    "    for i in range(1, n+1):\n",
    "        result += int(get_token(i))\n",
    "    return result\n",
    "\n",
    "seq = int(get_sequence(3))\n",
    "print(seq)"
   ]
  },
  {
   "cell_type": "code",
   "execution_count": 23,
   "metadata": {},
   "outputs": [
    {
     "name": "stdout",
     "output_type": "stream",
     "text": [
      "lp\n"
     ]
    }
   ],
   "source": [
    "def get_mid_char(s):\n",
    "    index = 0\n",
    "    if len(s)%2 == 0:\n",
    "        index=len(s)//2 - 1\n",
    "        return s[index : index+2]\n",
    "    elif len(s)%2 == 1:\n",
    "        index = len(s)//2\n",
    "        return s[index]\n",
    "    \n",
    "print(get_mid_char('helplo'))"
   ]
  },
  {
   "cell_type": "code",
   "execution_count": 25,
   "metadata": {},
   "outputs": [
    {
     "name": "stdout",
     "output_type": "stream",
     "text": [
      "수박수박수박수\n"
     ]
    }
   ],
   "source": [
    "def print_str(n):\n",
    "    w='수'\n",
    "    m='박'\n",
    "    result = ''\n",
    "    for i in range(0, n):\n",
    "        if(i % 2 == 0) : result += w\n",
    "        elif(i%2 ==1) :result += m\n",
    "    print(result)\n",
    "    return\n",
    "\n",
    "print_str(7)"
   ]
  },
  {
   "cell_type": "code",
   "execution_count": 30,
   "metadata": {},
   "outputs": [
    {
     "name": "stdout",
     "output_type": "stream",
     "text": [
      "7\n"
     ]
    }
   ],
   "source": [
    "def get_total(N):\n",
    "    ntos = str(N)\n",
    "    result = 0\n",
    "    for i in range(0, len(ntos)):\n",
    "        result += int(ntos[i])\n",
    "    \n",
    "    print(result)\n",
    "    return\n",
    "\n",
    "get_total(1231)"
   ]
  },
  {
   "cell_type": "code",
   "execution_count": 40,
   "metadata": {},
   "outputs": [
    {
     "name": "stdout",
     "output_type": "stream",
     "text": [
      "12341\n"
     ]
    }
   ],
   "source": [
    "def str_adder(*node):\n",
    "    result = ''\n",
    "    for i in node:\n",
    "        result += str(i)\n",
    "    return result\n",
    "\n",
    "print(str_adder(1,2,3,4,1))"
   ]
  },
  {
   "cell_type": "code",
   "execution_count": 54,
   "metadata": {
    "scrolled": true
   },
   "outputs": [
    {
     "data": {
      "text/plain": [
       "[9, 10, 6, 7, 8]"
      ]
     },
     "execution_count": 54,
     "metadata": {},
     "output_type": "execute_result"
    }
   ],
   "source": [
    "ns = [9, 10, 2,3,4,5,6,7,8]\n",
    "\n",
    "myfunc = lambda numbers : [number for number in numbers if number > 5]\n",
    "    \n",
    "myfunc(ns)"
   ]
  },
  {
   "cell_type": "code",
   "execution_count": 46,
   "metadata": {},
   "outputs": [
    {
     "name": "stdout",
     "output_type": "stream",
     "text": [
      "[6, 7, 8]\n"
     ]
    }
   ],
   "source": [
    "def myfunc(numbers):\n",
    "    result = []\n",
    "    for number in numbers:\n",
    "        if number > 5:\n",
    "            result.append(number)\n",
    "    return result\n",
    "result = myfunc([2, 3, 4, 5, 6, 7, 8])\n",
    "print(result)"
   ]
  },
  {
   "cell_type": "code",
   "execution_count": null,
   "metadata": {},
   "outputs": [],
   "source": []
  }
 ],
 "metadata": {
  "kernelspec": {
   "display_name": "Python 3",
   "language": "python",
   "name": "python3"
  },
  "language_info": {
   "codemirror_mode": {
    "name": "ipython",
    "version": 3
   },
   "file_extension": ".py",
   "mimetype": "text/x-python",
   "name": "python",
   "nbconvert_exporter": "python",
   "pygments_lexer": "ipython3",
   "version": "3.7.4"
  }
 },
 "nbformat": 4,
 "nbformat_minor": 2
}
