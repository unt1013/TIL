{
 "cells": [
  {
   "cell_type": "code",
   "execution_count": 11,
   "metadata": {},
   "outputs": [
    {
     "data": {
      "text/plain": [
       "6"
      ]
     },
     "execution_count": 11,
     "metadata": {},
     "output_type": "execute_result"
    }
   ],
   "source": [
    "def solution(n):\n",
    "    numberList = []\n",
    "    for i in range(1, n+1): numberList.append(i)\n",
    "    for i in reversed(numberList) :\n",
    "        if(i < 10):\n",
    "            if(i == 1 or i == 4 or i == 6 or i == 8 or i == 9) :\n",
    "                numberList.remove(i)\n",
    "        else :\n",
    "            if(i % 2 == 0 or i % 3 == 0 or i % 5 == 0 or i % 7 == 0) : \n",
    "                numberList.remove(i)\n",
    "    return len(numberList)\n",
    "\n",
    "solution(15)"
   ]
  },
  {
   "cell_type": "code",
   "execution_count": 16,
   "metadata": {},
   "outputs": [
    {
     "data": {
      "text/plain": [
       "3"
      ]
     },
     "execution_count": 16,
     "metadata": {},
     "output_type": "execute_result"
    }
   ],
   "source": [
    "def solution(d, budget):\n",
    "    answer = 0\n",
    "    lest = budget\n",
    "    d.sort()\n",
    "    \n",
    "    for i in d :\n",
    "        if lest >= i :\n",
    "            lest -= i\n",
    "            answer += 1\n",
    "        else : break\n",
    "    return answer\n",
    "\n",
    "solution([1,3,2,6,2], 5)"
   ]
  },
  {
   "cell_type": "code",
   "execution_count": 44,
   "metadata": {},
   "outputs": [],
   "source": [
    "import datetime, calendar\n",
    "\n",
    "def solution(a, b):\n",
    "    daylist = ['MON','TUE','WED', 'THU', 'FRI', 'SAT', 'SUN']\n",
    "    \n",
    "    return daylist[calendar.weekday(2016,a,b)]"
   ]
  },
  {
   "cell_type": "code",
   "execution_count": 69,
   "metadata": {},
   "outputs": [
    {
     "data": {
      "text/plain": [
       "False"
      ]
     },
     "execution_count": 69,
     "metadata": {},
     "output_type": "execute_result"
    }
   ],
   "source": [
    "import re\n",
    "\n",
    "def solution(phone_book):\n",
    "    answer = True\n",
    "    phone_book_sort = sorted(phone_book)\n",
    "    for i in range(0,len(phone_book_sort)):\n",
    "        for j in range(i, len(phone_book_sort)):\n",
    "            if(i==j) : continue\n",
    "            pattern = re.compile(phone_book_sort[i])\n",
    "            if pattern.match(phone_book_sort[j]):\n",
    "                answer = False\n",
    "                return answer\n",
    "                \n",
    "    return answer\n",
    "\n",
    "solution(['119','119210'])"
   ]
  },
  {
   "cell_type": "code",
   "execution_count": 68,
   "metadata": {},
   "outputs": [],
   "source": [
    "def solution(participant, completion):\n",
    "    list1 = participant\n",
    "    list2 = completion\n",
    "    \n",
    "    list1.sort()\n",
    "    list2.sort()\n",
    "\n",
    "    \n",
    "    for i in range(len(list2)):\n",
    "        if(list1[i] != list2[i]) : return list1[i]\n",
    "    \n",
    "    return list1[-1]"
   ]
  },
  {
   "cell_type": "code",
   "execution_count": 101,
   "metadata": {},
   "outputs": [
    {
     "data": {
      "text/plain": [
       "23"
      ]
     },
     "execution_count": 101,
     "metadata": {},
     "output_type": "execute_result"
    }
   ],
   "source": [
    "def solution(clothes):\n",
    "    answer = 1\n",
    "    \n",
    "    dictClothes = {  }\n",
    "    for i in clothes :\n",
    "        if(i[1] in dictClothes) :\n",
    "            dictClothes[i[1]] += 1\n",
    "        else :\n",
    "            dictClothes[i[1]] = 1\n",
    "    \n",
    "    for i in dictClothes.values() :\n",
    "        answer *= (int(i) + 1)\n",
    "    return answer-1\n",
    "\n",
    "solution([['yellow_hat', 'headgear'], ['blue_sunglasses', 'eyewear'], ['green_turban', 'headgear'],\n",
    "         ['green', 'glass'],['turban', 'glass'],['green_turban', 'glass']])"
   ]
  },
  {
   "cell_type": "code",
   "execution_count": 51,
   "metadata": {},
   "outputs": [
    {
     "name": "stdout",
     "output_type": "stream",
     "text": [
      "3\n"
     ]
    },
    {
     "data": {
      "text/plain": [
       "[0, 0, 2, 2, 4]"
      ]
     },
     "execution_count": 51,
     "metadata": {},
     "output_type": "execute_result"
    }
   ],
   "source": [
    "def solution(heights):\n",
    "    answer = []\n",
    "    \n",
    "    towers = heights\n",
    "    print(len(towers)-2)\n",
    "    \n",
    "    for i in range(0, len(towers)):\n",
    "        for j in range(i+1, len(towers)):\n",
    "            if(towers[len(towers)-1-i] < towers[len(towers)-1-j]) :\n",
    "                answer.append(len(towers)-j)\n",
    "                break;\n",
    "            if(j==len(towers)-1) : answer.append(0)\n",
    "    answer.append(0)\n",
    "    answer.reverse()\n",
    "    return answer\n",
    "\n",
    "solution([6,9,5,7,4])"
   ]
  },
  {
   "cell_type": "code",
   "execution_count": null,
   "metadata": {},
   "outputs": [],
   "source": []
  }
 ],
 "metadata": {
  "kernelspec": {
   "display_name": "Python 3",
   "language": "python",
   "name": "python3"
  },
  "language_info": {
   "codemirror_mode": {
    "name": "ipython",
    "version": 3
   },
   "file_extension": ".py",
   "mimetype": "text/x-python",
   "name": "python",
   "nbconvert_exporter": "python",
   "pygments_lexer": "ipython3",
   "version": "3.7.4"
  }
 },
 "nbformat": 4,
 "nbformat_minor": 2
}
